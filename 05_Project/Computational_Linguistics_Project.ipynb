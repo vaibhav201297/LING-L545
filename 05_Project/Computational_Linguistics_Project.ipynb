{
  "cells": [
    {
      "cell_type": "code",
      "execution_count": 4,
      "metadata": {
        "colab": {
          "base_uri": "https://localhost:8080/"
        },
        "id": "6WSeiHntMoLp",
        "outputId": "ff7b603d-b32a-4b1a-df49-46110cd64797"
      },
      "outputs": [
        {
          "name": "stdout",
          "output_type": "stream",
          "text": [
            "Looking in indexes: https://pypi.org/simple, https://us-python.pkg.dev/colab-wheels/public/simple/\n",
            "Requirement already satisfied: google-cloud-speech in /usr/local/lib/python3.8/dist-packages (from -r requirements.txt (line 1)) (2.16.2)\n",
            "Requirement already satisfied: pydub in /usr/local/lib/python3.8/dist-packages (from -r requirements.txt (line 2)) (0.25.1)\n",
            "Requirement already satisfied: srt in /usr/local/lib/python3.8/dist-packages (from -r requirements.txt (line 3)) (3.5.2)\n",
            "Requirement already satisfied: webvtt-py in /usr/local/lib/python3.8/dist-packages (from -r requirements.txt (line 4)) (0.4.6)\n",
            "Requirement already satisfied: google-api-core[grpc]!=2.0.*,!=2.1.*,!=2.2.*,!=2.3.*,!=2.4.*,!=2.5.*,!=2.6.*,!=2.7.*,<3.0.0dev,>=1.32.0 in /usr/local/lib/python3.8/dist-packages (from google-cloud-speech->-r requirements.txt (line 1)) (2.8.2)\n",
            "Requirement already satisfied: proto-plus<2.0.0dev,>=1.22.0 in /usr/local/lib/python3.8/dist-packages (from google-cloud-speech->-r requirements.txt (line 1)) (1.22.1)\n",
            "Requirement already satisfied: protobuf!=3.20.0,!=3.20.1,!=4.21.0,!=4.21.1,!=4.21.2,!=4.21.3,!=4.21.4,!=4.21.5,<5.0.0dev,>=3.19.5 in /usr/local/lib/python3.8/dist-packages (from google-cloud-speech->-r requirements.txt (line 1)) (3.19.6)\n",
            "Requirement already satisfied: google-auth<3.0dev,>=1.25.0 in /usr/local/lib/python3.8/dist-packages (from google-api-core[grpc]!=2.0.*,!=2.1.*,!=2.2.*,!=2.3.*,!=2.4.*,!=2.5.*,!=2.6.*,!=2.7.*,<3.0.0dev,>=1.32.0->google-cloud-speech->-r requirements.txt (line 1)) (2.15.0)\n",
            "Requirement already satisfied: googleapis-common-protos<2.0dev,>=1.56.2 in /usr/local/lib/python3.8/dist-packages (from google-api-core[grpc]!=2.0.*,!=2.1.*,!=2.2.*,!=2.3.*,!=2.4.*,!=2.5.*,!=2.6.*,!=2.7.*,<3.0.0dev,>=1.32.0->google-cloud-speech->-r requirements.txt (line 1)) (1.57.0)\n",
            "Requirement already satisfied: requests<3.0.0dev,>=2.18.0 in /usr/local/lib/python3.8/dist-packages (from google-api-core[grpc]!=2.0.*,!=2.1.*,!=2.2.*,!=2.3.*,!=2.4.*,!=2.5.*,!=2.6.*,!=2.7.*,<3.0.0dev,>=1.32.0->google-cloud-speech->-r requirements.txt (line 1)) (2.23.0)\n",
            "Requirement already satisfied: grpcio<2.0dev,>=1.33.2 in /usr/local/lib/python3.8/dist-packages (from google-api-core[grpc]!=2.0.*,!=2.1.*,!=2.2.*,!=2.3.*,!=2.4.*,!=2.5.*,!=2.6.*,!=2.7.*,<3.0.0dev,>=1.32.0->google-cloud-speech->-r requirements.txt (line 1)) (1.51.1)\n",
            "Requirement already satisfied: grpcio-status<2.0dev,>=1.33.2 in /usr/local/lib/python3.8/dist-packages (from google-api-core[grpc]!=2.0.*,!=2.1.*,!=2.2.*,!=2.3.*,!=2.4.*,!=2.5.*,!=2.6.*,!=2.7.*,<3.0.0dev,>=1.32.0->google-cloud-speech->-r requirements.txt (line 1)) (1.48.2)\n",
            "Requirement already satisfied: six>=1.9.0 in /usr/local/lib/python3.8/dist-packages (from google-auth<3.0dev,>=1.25.0->google-api-core[grpc]!=2.0.*,!=2.1.*,!=2.2.*,!=2.3.*,!=2.4.*,!=2.5.*,!=2.6.*,!=2.7.*,<3.0.0dev,>=1.32.0->google-cloud-speech->-r requirements.txt (line 1)) (1.15.0)\n",
            "Requirement already satisfied: pyasn1-modules>=0.2.1 in /usr/local/lib/python3.8/dist-packages (from google-auth<3.0dev,>=1.25.0->google-api-core[grpc]!=2.0.*,!=2.1.*,!=2.2.*,!=2.3.*,!=2.4.*,!=2.5.*,!=2.6.*,!=2.7.*,<3.0.0dev,>=1.32.0->google-cloud-speech->-r requirements.txt (line 1)) (0.2.8)\n",
            "Requirement already satisfied: rsa<5,>=3.1.4 in /usr/local/lib/python3.8/dist-packages (from google-auth<3.0dev,>=1.25.0->google-api-core[grpc]!=2.0.*,!=2.1.*,!=2.2.*,!=2.3.*,!=2.4.*,!=2.5.*,!=2.6.*,!=2.7.*,<3.0.0dev,>=1.32.0->google-cloud-speech->-r requirements.txt (line 1)) (4.9)\n",
            "Requirement already satisfied: cachetools<6.0,>=2.0.0 in /usr/local/lib/python3.8/dist-packages (from google-auth<3.0dev,>=1.25.0->google-api-core[grpc]!=2.0.*,!=2.1.*,!=2.2.*,!=2.3.*,!=2.4.*,!=2.5.*,!=2.6.*,!=2.7.*,<3.0.0dev,>=1.32.0->google-cloud-speech->-r requirements.txt (line 1)) (5.2.0)\n",
            "Requirement already satisfied: pyasn1<0.5.0,>=0.4.6 in /usr/local/lib/python3.8/dist-packages (from pyasn1-modules>=0.2.1->google-auth<3.0dev,>=1.25.0->google-api-core[grpc]!=2.0.*,!=2.1.*,!=2.2.*,!=2.3.*,!=2.4.*,!=2.5.*,!=2.6.*,!=2.7.*,<3.0.0dev,>=1.32.0->google-cloud-speech->-r requirements.txt (line 1)) (0.4.8)\n",
            "Requirement already satisfied: idna<3,>=2.5 in /usr/local/lib/python3.8/dist-packages (from requests<3.0.0dev,>=2.18.0->google-api-core[grpc]!=2.0.*,!=2.1.*,!=2.2.*,!=2.3.*,!=2.4.*,!=2.5.*,!=2.6.*,!=2.7.*,<3.0.0dev,>=1.32.0->google-cloud-speech->-r requirements.txt (line 1)) (2.10)\n",
            "Requirement already satisfied: certifi>=2017.4.17 in /usr/local/lib/python3.8/dist-packages (from requests<3.0.0dev,>=2.18.0->google-api-core[grpc]!=2.0.*,!=2.1.*,!=2.2.*,!=2.3.*,!=2.4.*,!=2.5.*,!=2.6.*,!=2.7.*,<3.0.0dev,>=1.32.0->google-cloud-speech->-r requirements.txt (line 1)) (2022.9.24)\n",
            "Requirement already satisfied: urllib3!=1.25.0,!=1.25.1,<1.26,>=1.21.1 in /usr/local/lib/python3.8/dist-packages (from requests<3.0.0dev,>=2.18.0->google-api-core[grpc]!=2.0.*,!=2.1.*,!=2.2.*,!=2.3.*,!=2.4.*,!=2.5.*,!=2.6.*,!=2.7.*,<3.0.0dev,>=1.32.0->google-cloud-speech->-r requirements.txt (line 1)) (1.24.3)\n",
            "Requirement already satisfied: chardet<4,>=3.0.2 in /usr/local/lib/python3.8/dist-packages (from requests<3.0.0dev,>=2.18.0->google-api-core[grpc]!=2.0.*,!=2.1.*,!=2.2.*,!=2.3.*,!=2.4.*,!=2.5.*,!=2.6.*,!=2.7.*,<3.0.0dev,>=1.32.0->google-cloud-speech->-r requirements.txt (line 1)) (3.0.4)\n",
            "Requirement already satisfied: docopt in /usr/local/lib/python3.8/dist-packages (from webvtt-py->-r requirements.txt (line 4)) (0.6.2)\n"
          ]
        }
      ],
      "source": [
        "!pip install -r requirements.txt"
      ]
    },
    {
      "cell_type": "code",
      "execution_count": 6,
      "metadata": {
        "id": "Lfnk89yZJVpc"
      },
      "outputs": [],
      "source": [
        "import subprocess\n",
        "from pydub.utils import mediainfo\n",
        "from google.cloud import speech\n",
        "from google.cloud import storage\n",
        "import srt\n",
        "import datetime\n",
        "from google.cloud.video.transcoder_v1.services.transcoder_service import (\n",
        "    TranscoderServiceClient,\n",
        ")"
      ]
    },
    {
      "cell_type": "code",
      "execution_count": 18,
      "metadata": {
        "id": "G1WcNNIVJZNY"
      },
      "outputs": [],
      "source": [
        "def audio_info(audio_filepath):\n",
        "  \n",
        "\n",
        "    audio_data = mediainfo(audio_filepath)\n",
        "    print(audio_data)\n",
        "    channels = audio_data[\"channels\"]\n",
        "    bit_rate = audio_data[\"bit_rate\"]\n",
        "    sample_rate = audio_data[\"sample_rate\"]\n",
        "\n",
        "    return channels, bit_rate, sample_rate\n"
      ]
    },
    {
      "cell_type": "code",
      "execution_count": 8,
      "metadata": {
        "id": "akrLqc-AJbH3"
      },
      "outputs": [],
      "source": [
        "\n"
      ]
    },
    {
      "cell_type": "code",
      "execution_count": 12,
      "metadata": {
        "id": "9QrTZ2SNJj22"
      },
      "outputs": [],
      "source": [
        "def subtitle_generation(response, bin_size=3):\n",
        "    \"\"\"We define a bin of time period to display the words in sync with audio. \n",
        "    Here, bin_size = 3 means each bin is of 3 secs. \n",
        "    All the words in the interval of 3 secs in result will be grouped togather.\"\"\"\n",
        "    transcriptions = []\n",
        "    index = 0\n",
        " \n",
        "    for result in response.results:\n",
        "        try:\n",
        "            print(\"-\" * 20)\n",
        "            print(\"First alternative of result {}\".format(i))\n",
        "            print(u\"Transcript: {}\".format(alternative.transcript))\n",
        "            print(u\"First Word and Confidence: ({}, {})\".format(alternative.words[0].word, alternative.words[0].confidence))\n",
        "            if result.alternatives[0].words[0].start_time.seconds:\n",
        "                # bin start -> for first word of result\n",
        "                start_sec = result.alternatives[0].words[0].start_time.seconds \n",
        "                start_microsec = result.alternatives[0].words[0].start_time.microseconds\n",
        "            else:\n",
        "                # bin start -> For First word of response\n",
        "                start_sec = 0\n",
        "                start_microsec = 0 \n",
        "            end_sec = start_sec + bin_size # bin end sec\n",
        "            \n",
        "            # for last word of result\n",
        "            last_word_end_sec = result.alternatives[0].words[-1].end_time.seconds\n",
        "            last_word_end_microsec = result.alternatives[0].words[-1].end_time.microseconds\n",
        "            \n",
        "            # bin transcript\n",
        "            transcript = result.alternatives[0].words[0].word\n",
        "            \n",
        "            index += 1 # subtitle index\n",
        "\n",
        "            for i in range(len(result.alternatives[0].words) - 1):\n",
        "                try:\n",
        "                    word = result.alternatives[0].words[i + 1].word\n",
        "                    word_start_sec = result.alternatives[0].words[i + 1].start_time.seconds\n",
        "                    word_start_microsec = result.alternatives[0].words[i + 1].start_time.microseconds # 0.001 to convert nana -> micro\n",
        "                    word_end_sec = result.alternatives[0].words[i + 1].end_time.seconds\n",
        "                    word_end_microsec = result.alternatives[0].words[i + 1].end_time.microseconds\n",
        "\n",
        "                    if word_end_sec < end_sec:\n",
        "                        transcript = transcript + \" \" + word\n",
        "                    else:\n",
        "                        previous_word_end_sec = result.alternatives[0].words[i].end_time.seconds\n",
        "                        previous_word_end_microsec = result.alternatives[0].words[i].end_time.microseconds                        \n",
        "                        # append bin transcript\n",
        "                        transcriptions.append(srt.Subtitle(index, datetime.timedelta(0, start_sec, start_microsec), datetime.timedelta(0, previous_word_end_sec, previous_word_end_microsec), transcript))\n",
        "                        \n",
        "                        # reset bin parameters\n",
        "                        start_sec = word_start_sec\n",
        "                        start_microsec = word_start_microsec\n",
        "                        end_sec = start_sec + bin_size\n",
        "                        transcript = result.alternatives[0].words[i + 1].word\n",
        "                        \n",
        "                        index += 1\n",
        "                except IndexError:\n",
        "                    pass\n",
        "            # append transcript of last transcript in bin\n",
        "            transcriptions.append(srt.Subtitle(index, datetime.timedelta(0, start_sec, start_microsec), datetime.timedelta(0, last_word_end_sec, last_word_end_microsec), transcript))\n",
        "            index += 1\n",
        "        except IndexError:\n",
        "            pass\n",
        "    \n",
        "    subtitles = srt.compose(transcriptions)\n",
        "    return subtitles"
      ]
    },
    {
      "cell_type": "code",
      "execution_count": 13,
      "metadata": {
        "colab": {
          "base_uri": "https://localhost:8080/"
        },
        "id": "V4bIQfInMYH3",
        "outputId": "10667e65-d8d8-45b4-f72a-630811f2cbb1"
      },
      "outputs": [
        {
          "name": "stdout",
          "output_type": "stream",
          "text": [
            "['mrt_02624_00459867779.wav', 'mrt_04310_01296588961.wav', 'mrt_02436_01118900915.wav', 'mrt_02436_01142336346.wav', 'mrt_03397_01056594829.wav', 'mrt_03397_01906514832.wav', 'mrt_04310_00952396785.wav', 'mrt_04310_00331730744.wav', 'mrt_03398_01675504879.wav', 'mrt_09697_00476676389.wav', 'mrt_04310_00164531172.wav', 'mrt_09697_01834070454.wav', 'mrt_02436_00154358097.wav', 'mrt_03397_00942481581.wav', 'mrt_02624_01916358767.wav', 'mrt_03397_00129434087.wav', 'mrt_02624_01527619254.wav', 'mrt_02436_01552526138.wav', 'mrt_04310_00857386910.wav', 'mrt_02624_00090780723.wav']\n"
          ]
        }
      ],
      "source": [
        "import os\n",
        "files=os.listdir(\"/content/audio\")\n",
        "print(files)\n"
      ]
    },
    {
      "cell_type": "code",
      "execution_count": 36,
      "metadata": {
        "id": "ciARzfGyRzeG"
      },
      "outputs": [],
      "source": [
        "import os\n",
        "os.environ[\"GOOGLE_APPLICATION_CREDENTIALS\"]=\"/content/sonic-totem-371500-b3da284aec9e.json\""
      ]
    },
    {
      "cell_type": "code",
      "execution_count": null,
      "metadata": {
        "id": "8y97qUFXanBd"
      },
      "outputs": [],
      "source": [
        "import pandas as pd"
      ]
    },
    {
      "cell_type": "code",
      "execution_count": 66,
      "metadata": {
        "colab": {
          "base_uri": "https://localhost:8080/"
        },
        "id": "6PPM26LChLe5",
        "outputId": "ae8fafbc-d1cc-447b-9e18-3fb38fb902e4"
      },
      "outputs": [
        {
          "name": "stdout",
          "output_type": "stream",
          "text": [
            "Looking in indexes: https://pypi.org/simple, https://us-python.pkg.dev/colab-wheels/public/simple/\n",
            "Collecting jiwer\n",
            "  Downloading jiwer-2.5.1-py3-none-any.whl (15 kB)\n",
            "Collecting levenshtein==0.20.2\n",
            "  Downloading Levenshtein-0.20.2-cp38-cp38-manylinux_2_17_x86_64.manylinux2014_x86_64.whl (1.4 MB)\n",
            "\u001b[K     |████████████████████████████████| 1.4 MB 5.2 MB/s \n",
            "\u001b[?25hCollecting rapidfuzz<3.0.0,>=2.3.0\n",
            "  Downloading rapidfuzz-2.13.6-cp38-cp38-manylinux_2_17_x86_64.manylinux2014_x86_64.whl (2.2 MB)\n",
            "\u001b[K     |████████████████████████████████| 2.2 MB 55.6 MB/s \n",
            "\u001b[?25hInstalling collected packages: rapidfuzz, levenshtein, jiwer\n",
            "Successfully installed jiwer-2.5.1 levenshtein-0.20.2 rapidfuzz-2.13.6\n"
          ]
        }
      ],
      "source": [
        "!pip install jiwer"
      ]
    },
    {
      "cell_type": "code",
      "execution_count": 70,
      "metadata": {
        "colab": {
          "base_uri": "https://localhost:8080/",
          "height": 455
        },
        "id": "kJUxlWQZhsx5",
        "outputId": "dc1e6c61-d041-4be1-f7b9-1e80db6de1dd"
      },
      "outputs": [
        {
          "data": {
            "text/html": [
              "\n",
              "  <div id=\"df-32d980d9-3fbc-4cff-998b-a93cd8513984\">\n",
              "    <div class=\"colab-df-container\">\n",
              "      <div>\n",
              "<style scoped>\n",
              "    .dataframe tbody tr th:only-of-type {\n",
              "        vertical-align: middle;\n",
              "    }\n",
              "\n",
              "    .dataframe tbody tr th {\n",
              "        vertical-align: top;\n",
              "    }\n",
              "\n",
              "    .dataframe thead th {\n",
              "        text-align: right;\n",
              "    }\n",
              "</style>\n",
              "<table border=\"1\" class=\"dataframe\">\n",
              "  <thead>\n",
              "    <tr style=\"text-align: right;\">\n",
              "      <th></th>\n",
              "      <th>1</th>\n",
              "    </tr>\n",
              "    <tr>\n",
              "      <th>0</th>\n",
              "      <th></th>\n",
              "    </tr>\n",
              "  </thead>\n",
              "  <tbody>\n",
              "    <tr>\n",
              "      <th>mrt_01523_01464306257</th>\n",
              "      <td>एक बस चार तासांपूर्वी येऊन गेली आणि पुढची बस य...</td>\n",
              "    </tr>\n",
              "    <tr>\n",
              "      <th>mrt_04310_01727087719</th>\n",
              "      <td>अमरापूर गावाला रुपेरी पडद्यावर ओळख निर्माण करू...</td>\n",
              "    </tr>\n",
              "    <tr>\n",
              "      <th>mrt_03398_00598923081</th>\n",
              "      <td>आज लंडनमध्ये कमाल तापमान पंचवीस अंश सेल्सिअस अ...</td>\n",
              "    </tr>\n",
              "    <tr>\n",
              "      <th>mrt_02624_01527619254</th>\n",
              "      <td>आता ती छत्री कुठे आहे ?</td>\n",
              "    </tr>\n",
              "    <tr>\n",
              "      <th>mrt_01523_00829338962</th>\n",
              "      <td>मी तुमच्यासाठी काय करू शकते ?</td>\n",
              "    </tr>\n",
              "    <tr>\n",
              "      <th>...</th>\n",
              "      <td>...</td>\n",
              "    </tr>\n",
              "    <tr>\n",
              "      <th>mrt_09697_00377607090</th>\n",
              "      <td>आपल्या सुरक्षकवचातून बाहेर पडा</td>\n",
              "    </tr>\n",
              "    <tr>\n",
              "      <th>mrt_03397_02018280946</th>\n",
              "      <td>एकोणीसशे बेचाळीसमधे लता अवघ्या तेरा वर्षांची ह...</td>\n",
              "    </tr>\n",
              "    <tr>\n",
              "      <th>mrt_03397_01672858913</th>\n",
              "      <td>एखाद्या व्यक्तीला ओवाळताना ती व्यक्ती बसलेल्या...</td>\n",
              "    </tr>\n",
              "    <tr>\n",
              "      <th>mrt_02436_00786556412</th>\n",
              "      <td>केळ्यापासून बनवल्या जाणाऱ्या पाककृती शोधण्यात ...</td>\n",
              "    </tr>\n",
              "    <tr>\n",
              "      <th>mrt_03397_00276348772</th>\n",
              "      <td>अनुजाचा जन्म एकोणीसशे नव्व्याण्णव सालातील चैत्...</td>\n",
              "    </tr>\n",
              "  </tbody>\n",
              "</table>\n",
              "<p>1569 rows × 1 columns</p>\n",
              "</div>\n",
              "      <button class=\"colab-df-convert\" onclick=\"convertToInteractive('df-32d980d9-3fbc-4cff-998b-a93cd8513984')\"\n",
              "              title=\"Convert this dataframe to an interactive table.\"\n",
              "              style=\"display:none;\">\n",
              "        \n",
              "  <svg xmlns=\"http://www.w3.org/2000/svg\" height=\"24px\"viewBox=\"0 0 24 24\"\n",
              "       width=\"24px\">\n",
              "    <path d=\"M0 0h24v24H0V0z\" fill=\"none\"/>\n",
              "    <path d=\"M18.56 5.44l.94 2.06.94-2.06 2.06-.94-2.06-.94-.94-2.06-.94 2.06-2.06.94zm-11 1L8.5 8.5l.94-2.06 2.06-.94-2.06-.94L8.5 2.5l-.94 2.06-2.06.94zm10 10l.94 2.06.94-2.06 2.06-.94-2.06-.94-.94-2.06-.94 2.06-2.06.94z\"/><path d=\"M17.41 7.96l-1.37-1.37c-.4-.4-.92-.59-1.43-.59-.52 0-1.04.2-1.43.59L10.3 9.45l-7.72 7.72c-.78.78-.78 2.05 0 2.83L4 21.41c.39.39.9.59 1.41.59.51 0 1.02-.2 1.41-.59l7.78-7.78 2.81-2.81c.8-.78.8-2.07 0-2.86zM5.41 20L4 18.59l7.72-7.72 1.47 1.35L5.41 20z\"/>\n",
              "  </svg>\n",
              "      </button>\n",
              "      \n",
              "  <style>\n",
              "    .colab-df-container {\n",
              "      display:flex;\n",
              "      flex-wrap:wrap;\n",
              "      gap: 12px;\n",
              "    }\n",
              "\n",
              "    .colab-df-convert {\n",
              "      background-color: #E8F0FE;\n",
              "      border: none;\n",
              "      border-radius: 50%;\n",
              "      cursor: pointer;\n",
              "      display: none;\n",
              "      fill: #1967D2;\n",
              "      height: 32px;\n",
              "      padding: 0 0 0 0;\n",
              "      width: 32px;\n",
              "    }\n",
              "\n",
              "    .colab-df-convert:hover {\n",
              "      background-color: #E2EBFA;\n",
              "      box-shadow: 0px 1px 2px rgba(60, 64, 67, 0.3), 0px 1px 3px 1px rgba(60, 64, 67, 0.15);\n",
              "      fill: #174EA6;\n",
              "    }\n",
              "\n",
              "    [theme=dark] .colab-df-convert {\n",
              "      background-color: #3B4455;\n",
              "      fill: #D2E3FC;\n",
              "    }\n",
              "\n",
              "    [theme=dark] .colab-df-convert:hover {\n",
              "      background-color: #434B5C;\n",
              "      box-shadow: 0px 1px 3px 1px rgba(0, 0, 0, 0.15);\n",
              "      filter: drop-shadow(0px 1px 2px rgba(0, 0, 0, 0.3));\n",
              "      fill: #FFFFFF;\n",
              "    }\n",
              "  </style>\n",
              "\n",
              "      <script>\n",
              "        const buttonEl =\n",
              "          document.querySelector('#df-32d980d9-3fbc-4cff-998b-a93cd8513984 button.colab-df-convert');\n",
              "        buttonEl.style.display =\n",
              "          google.colab.kernel.accessAllowed ? 'block' : 'none';\n",
              "\n",
              "        async function convertToInteractive(key) {\n",
              "          const element = document.querySelector('#df-32d980d9-3fbc-4cff-998b-a93cd8513984');\n",
              "          const dataTable =\n",
              "            await google.colab.kernel.invokeFunction('convertToInteractive',\n",
              "                                                     [key], {});\n",
              "          if (!dataTable) return;\n",
              "\n",
              "          const docLinkHtml = 'Like what you see? Visit the ' +\n",
              "            '<a target=\"_blank\" href=https://colab.research.google.com/notebooks/data_table.ipynb>data table notebook</a>'\n",
              "            + ' to learn more about interactive tables.';\n",
              "          element.innerHTML = '';\n",
              "          dataTable['output_type'] = 'display_data';\n",
              "          await google.colab.output.renderOutput(dataTable, element);\n",
              "          const docLink = document.createElement('div');\n",
              "          docLink.innerHTML = docLinkHtml;\n",
              "          element.appendChild(docLink);\n",
              "        }\n",
              "      </script>\n",
              "    </div>\n",
              "  </div>\n",
              "  "
            ],
            "text/plain": [
              "                                                                       1\n",
              "0                                                                       \n",
              "mrt_01523_01464306257  एक बस चार तासांपूर्वी येऊन गेली आणि पुढची बस य...\n",
              "mrt_04310_01727087719  अमरापूर गावाला रुपेरी पडद्यावर ओळख निर्माण करू...\n",
              "mrt_03398_00598923081  आज लंडनमध्ये कमाल तापमान पंचवीस अंश सेल्सिअस अ...\n",
              "mrt_02624_01527619254                            आता ती छत्री कुठे आहे ?\n",
              "mrt_01523_00829338962                      मी तुमच्यासाठी काय करू शकते ?\n",
              "...                                                                  ...\n",
              "mrt_09697_00377607090                     आपल्या सुरक्षकवचातून बाहेर पडा\n",
              "mrt_03397_02018280946  एकोणीसशे बेचाळीसमधे लता अवघ्या तेरा वर्षांची ह...\n",
              "mrt_03397_01672858913  एखाद्या व्यक्तीला ओवाळताना ती व्यक्ती बसलेल्या...\n",
              "mrt_02436_00786556412  केळ्यापासून बनवल्या जाणाऱ्या पाककृती शोधण्यात ...\n",
              "mrt_03397_00276348772  अनुजाचा जन्म एकोणीसशे नव्व्याण्णव सालातील चैत्...\n",
              "\n",
              "[1569 rows x 1 columns]"
            ]
          },
          "execution_count": 70,
          "metadata": {},
          "output_type": "execute_result"
        }
      ],
      "source": [
        "import pandas as pd\n",
        "df=pd.read_csv('/content/line_index.tsv',sep='\\t',header=None)\n",
        "df.set_index(0)"
      ]
    },
    {
      "cell_type": "code",
      "execution_count": 84,
      "metadata": {
        "colab": {
          "base_uri": "https://localhost:8080/"
        },
        "id": "AHVKzAgfOSIP",
        "outputId": "2e975e6d-228a-42b0-f594-648adaf85ee1"
      },
      "outputs": [
        {
          "name": "stdout",
          "output_type": "stream",
          "text": [
            "--------------------\n",
            "mrt_02624_00459867779.wav\n",
            "It took 0.7511029243469238 seconds to recognize words from the audio file\n",
            "First alternative of result 0\n",
            "Transcript: खरंच धन्यवाद\n",
            "First Word and Confidence: (खरंच, 0.6187698245048523)\n",
            "--------------------\n",
            "mrt_04310_01296588961.wav\n",
            "It took 0.5824134349822998 seconds to recognize words from the audio file\n",
            "First alternative of result 0\n",
            "Transcript: काही हरकत नाही मी वाट\n",
            "First Word and Confidence: (काही, 0.9025092720985413)\n",
            "--------------------\n",
            "mrt_02436_01118900915.wav\n",
            "It took 0.5937609672546387 seconds to recognize words from the audio file\n",
            "First alternative of result 0\n",
            "Transcript: कुत्रे खूप छान असतात\n",
            "First Word and Confidence: (कुत्रे, 0.9025092720985413)\n",
            "--------------------\n",
            "mrt_02436_01142336346.wav\n",
            "It took 0.5827527046203613 seconds to recognize words from the audio file\n",
            "First alternative of result 0\n",
            "Transcript: एवढा राग कशामुळे\n",
            "First Word and Confidence: (एवढा, 0.9025092720985413)\n",
            "--------------------\n",
            "mrt_03397_01056594829.wav\n",
            "It took 0.5695722103118896 seconds to recognize words from the audio file\n",
            "First alternative of result 0\n",
            "Transcript: हे विचित्र आहे\n",
            "First Word and Confidence: (हे, 0.8975221514701843)\n",
            "--------------------\n",
            "mrt_03397_01906514832.wav\n",
            "It took 0.592336893081665 seconds to recognize words from the audio file\n",
            "First alternative of result 0\n",
            "Transcript: मी खरच तरुण आहे का\n",
            "First Word and Confidence: (मी, 0.9025092720985413)\n",
            "--------------------\n",
            "mrt_04310_00952396785.wav\n",
            "It took 0.6081745624542236 seconds to recognize words from the audio file\n",
            "First alternative of result 0\n",
            "Transcript: काही शँपेन खूप महाग असतात\n",
            "First Word and Confidence: (काही, 0.9025092720985413)\n",
            "--------------------\n",
            "mrt_04310_00331730744.wav\n",
            "It took 0.6213304996490479 seconds to recognize words from the audio file\n",
            "First alternative of result 0\n",
            "Transcript: काही हरकत नाही मी वाट पाहीन\n",
            "First Word and Confidence: (काही, 0.9025092720985413)\n",
            "--------------------\n",
            "mrt_03398_01675504879.wav\n",
            "It took 0.609417200088501 seconds to recognize words from the audio file\n",
            "First alternative of result 0\n",
            "Transcript: पण मी तुम्हाला कशी हाक मारून\n",
            "First Word and Confidence: (पण, 0.9025092720985413)\n",
            "--------------------\n",
            "mrt_09697_00476676389.wav\n",
            "It took 0.6031606197357178 seconds to recognize words from the audio file\n",
            "First alternative of result 0\n",
            "Transcript: आता मी ऐकत आहे\n",
            "First Word and Confidence: (आता, 0.9025092720985413)\n",
            "--------------------\n",
            "mrt_04310_00164531172.wav\n",
            "It took 0.6361780166625977 seconds to recognize words from the audio file\n",
            "First alternative of result 0\n",
            "Transcript: काश्मीर पाहण्याची मोठी इच्छा\n",
            "First Word and Confidence: (काश्मीर, 0.617637574672699)\n",
            "--------------------\n",
            "mrt_09697_01834070454.wav\n",
            "It took 0.5740182399749756 seconds to recognize words from the audio file\n",
            "First alternative of result 0\n",
            "Transcript: आम्ही आरामात आलो आहोत\n",
            "First Word and Confidence: (आम्ही, 0.9025092720985413)\n",
            "--------------------\n",
            "mrt_02436_00154358097.wav\n",
            "It took 0.613722562789917 seconds to recognize words from the audio file\n",
            "First alternative of result 0\n",
            "Transcript: आहे मी काय मदत करू\n",
            "First Word and Confidence: (आहे, 0.9025092720985413)\n",
            "--------------------\n",
            "mrt_03397_00942481581.wav\n",
            "It took 0.44359588623046875 seconds to recognize words from the audio file\n",
            "First alternative of result 0\n",
            "Transcript: मी व\n",
            "First Word and Confidence: (मी, 0.9025092720985413)\n",
            "--------------------\n",
            "mrt_02624_01916358767.wav\n",
            "It took 0.5596330165863037 seconds to recognize words from the audio file\n",
            "First alternative of result 0\n",
            "Transcript: आता थांबू\n",
            "First Word and Confidence: (आता, 0.7568675875663757)\n",
            "--------------------\n",
            "mrt_03397_00129434087.wav\n",
            "It took 0.6636204719543457 seconds to recognize words from the audio file\n",
            "First alternative of result 0\n",
            "Transcript: ऍक्टर होण्याचे काही फायदे असतात\n",
            "First Word and Confidence: (ऍक्टर, 0.5675216913223267)\n",
            "--------------------\n",
            "mrt_02624_01527619254.wav\n",
            "It took 0.5616679191589355 seconds to recognize words from the audio file\n",
            "First alternative of result 0\n",
            "Transcript: आता ती छत्री कुठे आहे\n",
            "First Word and Confidence: (आता, 0.9025092720985413)\n",
            "--------------------\n",
            "mrt_02436_01552526138.wav\n",
            "It took 0.4832146167755127 seconds to recognize words from the audio file\n",
            "First alternative of result 0\n",
            "Transcript: आता थांबू\n",
            "First Word and Confidence: (आता, 0.9025092720985413)\n",
            "--------------------\n",
            "mrt_04310_00857386910.wav\n",
            "It took 0.790104866027832 seconds to recognize words from the audio file\n",
            "First alternative of result 0\n",
            "Transcript: काळजी करू नका मी इथेच आहे\n",
            "First Word and Confidence: (काळजी, 0.9025092720985413)\n",
            "--------------------\n",
            "mrt_02624_00090780723.wav\n",
            "It took 0.5885231494903564 seconds to recognize words from the audio file\n",
            "First alternative of result 0\n",
            "Transcript: मी काय मदत करू\n",
            "First Word and Confidence: (मी, 0.6412969827651978)\n"
          ]
        }
      ],
      "source": [
        "import os\n",
        "from jiwer import wer\n",
        "filesize=[]\n",
        "time_taken = []\n",
        "first_word_accuracy=[]\n",
        "import time\n",
        "errors=[]\n",
        "\n",
        "# import required library\n",
        "from pydub import AudioSegment\n",
        "client = speech.SpeechClient()\n",
        "for f in files:\n",
        "  filesize.append(os.path.getsize(\"/content/audio/\"+f))\n",
        "  wav_file = AudioSegment.from_file(file=\"/content/audio/\"+f, format=\"wav\")\n",
        "  with open('/content/audio/'+f, \"rb\") as audio_file:\n",
        "    content = audio_file.read()\n",
        "  audio = speech.RecognitionAudio(content=content)\n",
        "  config = speech.RecognitionConfig(\n",
        "    encoding=speech.RecognitionConfig.AudioEncoding.LINEAR16,\n",
        "    sample_rate_hertz=wav_file.frame_rate,\n",
        "    language_code=\"mr-IN\",\n",
        "    enable_word_confidence=True,)\n",
        "  t1=time.time()\n",
        "  response = client.recognize(config=config, audio=audio)\n",
        "  t2=time.time()\n",
        "  time_taken.append(t2-t1)\n",
        "  print(\"-\" * 20)\n",
        "  print(f)\n",
        "  print(\"It took {} seconds to recognize words from the audio file\".format(t2-t1))\n",
        "  for i, result in enumerate(response.results):\n",
        "    \n",
        "    alternative = result.alternatives[0]\n",
        "    first_word_accuracy.append(alternative.words[0].confidence)\n",
        "    print(\"First alternative of result {}\".format(i))\n",
        "    print(u\"Transcript: {}\".format(alternative.transcript))\n",
        "    print(\n",
        "        u\"First Word and Confidence: ({}, {})\".format(\n",
        "            alternative.words[0].word, alternative.words[0].confidence\n",
        "        )\n",
        "    )\n",
        "    gt=df.loc[df[0] == f[:f.index(\".\")]]\n",
        "    temp=gt[1].astype(str)\n",
        "    temp2=temp.to_string()\n",
        "\n",
        "    error = wer(temp2, alternative.transcript)\n"
      ]
    },
    {
      "cell_type": "code",
      "execution_count": 88,
      "metadata": {
        "colab": {
          "base_uri": "https://localhost:8080/"
        },
        "id": "96xnNr85kkXj",
        "outputId": "c5080e64-4ddb-4342-86a7-3d2bb92b5149"
      },
      "outputs": [
        {
          "name": "stdout",
          "output_type": "stream",
          "text": [
            "0.42857142857142855\n"
          ]
        }
      ],
      "source": [
        "print(error)"
      ]
    },
    {
      "cell_type": "code",
      "execution_count": 83,
      "metadata": {
        "colab": {
          "base_uri": "https://localhost:8080/"
        },
        "id": "9rf0m0AVih5O",
        "outputId": "13327288-1f8f-4069-dee5-dfb57e9adac1"
      },
      "outputs": [
        {
          "name": "stdout",
          "output_type": "stream",
          "text": [
            "<class 'str'>\n"
          ]
        }
      ],
      "source": [
        "gt=df.loc[df[0] == 'mrt_02624_00090780723']\n",
        "temp=gt[1].astype(str)\n",
        "temp2=temp.to_string()\n"
      ]
    },
    {
      "cell_type": "code",
      "execution_count": 58,
      "metadata": {
        "colab": {
          "base_uri": "https://localhost:8080/",
          "height": 262
        },
        "id": "ds7_bmH6cEAW",
        "outputId": "635bbce3-ffdd-4cd2-a3f9-8e5a4de35068"
      },
      "outputs": [
        {
          "data": {
            "image/png": "[encoded data removed]",
            "text/plain": [
              "<Figure size 432x288 with 1 Axes>"
            ]
          },
          "metadata": {
            "needs_background": "light"
          },
          "output_type": "display_data"
        }
      ],
      "source": [
        "from matplotlib import pyplot as plt\n",
        "\n",
        "plt.plot(files, time_taken)\n",
        "#plt.plot([0.1, 0.2, 0.3, 0.4], [1, 4, 9, 16], 'b-.')\n",
        "plt.xlabel(\"File Name\")\n",
        "frame1 = plt.gca()\n",
        "frame1.axes.get_xaxis().set_ticks([])\n",
        "plt.ylabel(\"Time taken in seconds\")\n",
        "plt.show()"
      ]
    },
    {
      "cell_type": "code",
      "execution_count": 59,
      "metadata": {
        "colab": {
          "base_uri": "https://localhost:8080/",
          "height": 262
        },
        "id": "3nGmJ_zUdAct",
        "outputId": "6a62059c-fc18-42b5-f737-62eaa092cdfc"
      },
      "outputs": [
        {
          "data": {
            "image/png": "[encoded data removed]",
            "text/plain": [
              "<Figure size 432x288 with 1 Axes>"
            ]
          },
          "metadata": {
            "needs_background": "light"
          },
          "output_type": "display_data"
        }
      ],
      "source": [
        "plt.plot(files,first_word_accuracy)\n",
        "#plt.plot([0.1, 0.2, 0.3, 0.4], [1, 4, 9, 16], 'b-.')\n",
        "plt.xlabel(\"File Name\")\n",
        "frame1 = plt.gca()\n",
        "frame1.axes.get_xaxis().set_ticks([])\n",
        "plt.ylabel(\"First Word Acuracy\")\n",
        "plt.show()"
      ]
    },
    {
      "cell_type": "code",
      "execution_count": 65,
      "metadata": {
        "colab": {
          "base_uri": "https://localhost:8080/",
          "height": 279
        },
        "id": "dFc2lwLvfOGB",
        "outputId": "dc8ed88b-9910-4cf9-d2e5-626b31f1b91b"
      },
      "outputs": [
        {
          "data": {
            "image/png": "[encoded data removed]",
            "text/plain": [
              "<Figure size 432x288 with 1 Axes>"
            ]
          },
          "metadata": {
            "needs_background": "light"
          },
          "output_type": "display_data"
        }
      ],
      "source": [
        "plt.plot(time_taken,filesize,\"rx\")\n",
        "time\n",
        "#plt.plot([0.1, 0.2, 0.3, 0.4], [1, 4, 9, 16], 'b-.')\n",
        "plt.ylabel(\"File Size\")\n",
        "frame1 = plt.gca()\n",
        "plt.xlabel(\"Time Taken\")\n",
        "plt.show()"
      ]
    },
    {
      "cell_type": "code",
      "execution_count": 56,
      "metadata": {
        "colab": {
          "base_uri": "https://localhost:8080/"
        },
        "id": "TDnXcXYvY_Sl",
        "outputId": "63c62d1b-7a75-4d27-f8d8-3740c71d55a7"
      },
      "outputs": [
        {
          "name": "stdout",
          "output_type": "stream",
          "text": [
            "[270380, 270380, 258622, 276454, 253996, 278572, 270380, 278572, 278572, 276454, 286764, 276454, 285370, 196652, 229420, 278572, 270380, 222956, 262188, 262188]\n",
            "[0.6641685962677002, 0.6452333927154541, 0.5800848007202148, 0.6112179756164551, 0.6264638900756836, 0.6198856830596924, 0.6302578449249268, 0.6589059829711914, 0.6227586269378662, 0.6609241962432861, 0.6246955394744873, 0.7193574905395508, 0.6392168998718262, 0.4998335838317871, 0.5051898956298828, 0.6976079940795898, 0.6749556064605713, 0.4952428340911865, 0.5998313426971436, 0.5745069980621338]\n"
          ]
        }
      ],
      "source": [
        "print(filesize)\n",
        "print(time_taken)\n"
      ]
    },
    {
      "cell_type": "code",
      "execution_count": 23,
      "metadata": {
        "colab": {
          "base_uri": "https://localhost:8080/"
        },
        "id": "ED_bhPg6Qmyx",
        "outputId": "12acf58d-f088-4b5a-cc6c-31380e7b8ac8"
      },
      "outputs": [
        {
          "name": "stdout",
          "output_type": "stream",
          "text": [
            "Looking in indexes: https://pypi.org/simple, https://us-python.pkg.dev/colab-wheels/public/simple/\n",
            "Requirement already satisfied: pydub in /usr/local/lib/python3.8/dist-packages (0.25.1)\n"
          ]
        }
      ],
      "source": [
        "!pip install pydub"
      ]
    }
  ],
  "metadata": {
    "colab": {
      "provenance": []
    },
    "kernelspec": {
      "display_name": "base",
      "language": "python",
      "name": "python3"
    },
    "language_info": {
      "name": "python",
      "version": "3.8.8 (default, Apr 13 2021, 19:58:26) \n[GCC 7.3.0]"
    },
    "vscode": {
      "interpreter": {
        "hash": "8296d0786e9b384ebb7f91942e232033740bae4a9ae1f1bba7a3651c8060b4f0"
      }
    }
  },
  "nbformat": 4,
  "nbformat_minor": 0
}
